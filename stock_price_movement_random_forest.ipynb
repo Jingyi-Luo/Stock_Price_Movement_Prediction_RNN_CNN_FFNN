{
 "cells": [
  {
   "cell_type": "markdown",
   "metadata": {},
   "source": [
    "# Project Title: Stock Price Movement Prediction Using Random Forest\n",
    "# Project Type: Prediction of stock price movement\n"
   ]
  },
  {
   "cell_type": "markdown",
   "metadata": {},
   "source": [
    "### Libraries"
   ]
  },
  {
   "cell_type": "code",
   "execution_count": 2,
   "metadata": {},
   "outputs": [],
   "source": [
    "import warnings\n",
    "def ignore_warn(*args, **kwargs):\n",
    "    pass\n",
    "warnings.warn = ignore_warn\n",
    "\n",
    "import os\n",
    "import numpy as np\n",
    "import tensorflow as tf\n",
    "import pandas as pd"
   ]
  },
  {
   "cell_type": "code",
   "execution_count": 3,
   "metadata": {},
   "outputs": [],
   "source": [
    "from sklearn.ensemble import RandomForestClassifier\n",
    "from sklearn.model_selection import GridSearchCV\n",
    "from sklearn import svm\n",
    "from sklearn.metrics import confusion_matrix\n",
    "from sklearn import metrics\n",
    "from sklearn import preprocessing\n",
    "from sklearn.externals import joblib"
   ]
  },
  {
   "cell_type": "code",
   "execution_count": 1,
   "metadata": {},
   "outputs": [
    {
     "data": {
      "text/plain": [
       "'\\nFeature description for features in the original dataset:\\n# timestamp :  High resolution timestamp for this event\\n# order id:  Unique id for the order (Added, Modified,...)\\n# book event type:  Add, Modify, Cancel, Trade\\n# price: Price of Add, Modify, Trade\\n# quantity: Quantity of Add, Modify, Trade\\n# aux quantity: Auxiliary quantity info (e.g. Amount left on order after partial trade)\\n# side: Side of event (Bid vs Ask)\\n# aux1 Additional info - e.g. trade condition\\n# aux2 Additional info - e.g. sales condition\\n'"
      ]
     },
     "execution_count": 1,
     "metadata": {},
     "output_type": "execute_result"
    }
   ],
   "source": [
    "'''\n",
    "Feature description for features in the original dataset:\n",
    "# timestamp :  High resolution timestamp for this event\n",
    "# order id:  Unique id for the order (Added, Modified,...)\n",
    "# book event type:  Add, Modify, Cancel, Trade\n",
    "# price: Price of Add, Modify, Trade\n",
    "# quantity: Quantity of Add, Modify, Trade\n",
    "# aux quantity: Auxiliary quantity info (e.g. Amount left on order after partial trade)\n",
    "# side: Side of event (Bid vs Ask)\n",
    "# aux1 Additional info - e.g. trade condition\n",
    "# aux2 Additional info - e.g. sales condition\n",
    "'''"
   ]
  },
  {
   "cell_type": "markdown",
   "metadata": {},
   "source": [
    "### Preprocess"
   ]
  },
  {
   "cell_type": "code",
   "execution_count": null,
   "metadata": {},
   "outputs": [],
   "source": [
    "# The following code reads data for NFLX from the h5 file\n",
    "'''\n",
    "reread = pd.HDFStore('book_events_total_view_2017-01-03.h5')\n",
    "NFLX = reread['/NFLX']\n",
    "''''\n",
    "# This h5 file contains ALL transaction with ALL the Nasdaq companies at 2017-01-03."
   ]
  },
  {
   "cell_type": "code",
   "execution_count": 4,
   "metadata": {},
   "outputs": [],
   "source": [
    "# read in data\n",
    "# We read in all the transaction for NFLX from the h5 file from 2017-1-3, \n",
    "# and then have saved as a csv file for easier reading in purposes.\n",
    "NFLX = pd.read_csv(\"NFLX_2017-01-03.csv\")"
   ]
  },
  {
   "cell_type": "code",
   "execution_count": 5,
   "metadata": {},
   "outputs": [
    {
     "data": {
      "text/plain": [
       "(477239, 9)"
      ]
     },
     "execution_count": 5,
     "metadata": {},
     "output_type": "execute_result"
    }
   ],
   "source": [
    "NFLX.shape"
   ]
  },
  {
   "cell_type": "code",
   "execution_count": 6,
   "metadata": {},
   "outputs": [
    {
     "data": {
      "text/html": [
       "<div>\n",
       "<style scoped>\n",
       "    .dataframe tbody tr th:only-of-type {\n",
       "        vertical-align: middle;\n",
       "    }\n",
       "\n",
       "    .dataframe tbody tr th {\n",
       "        vertical-align: top;\n",
       "    }\n",
       "\n",
       "    .dataframe thead th {\n",
       "        text-align: right;\n",
       "    }\n",
       "</style>\n",
       "<table border=\"1\" class=\"dataframe\">\n",
       "  <thead>\n",
       "    <tr style=\"text-align: right;\">\n",
       "      <th></th>\n",
       "      <th>timestamp</th>\n",
       "      <th>order_id</th>\n",
       "      <th>book_event_type</th>\n",
       "      <th>price</th>\n",
       "      <th>quantity</th>\n",
       "      <th>aux_quantity</th>\n",
       "      <th>side</th>\n",
       "      <th>aux1</th>\n",
       "      <th>aux2</th>\n",
       "    </tr>\n",
       "  </thead>\n",
       "  <tbody>\n",
       "    <tr>\n",
       "      <th>0</th>\n",
       "      <td>1483434000011581301</td>\n",
       "      <td>1215</td>\n",
       "      <td>A</td>\n",
       "      <td>90000000000</td>\n",
       "      <td>10</td>\n",
       "      <td>0</td>\n",
       "      <td>B</td>\n",
       "      <td>0</td>\n",
       "      <td>0</td>\n",
       "    </tr>\n",
       "    <tr>\n",
       "      <th>1</th>\n",
       "      <td>1483434000012215442</td>\n",
       "      <td>1275</td>\n",
       "      <td>A</td>\n",
       "      <td>140000000000</td>\n",
       "      <td>10</td>\n",
       "      <td>0</td>\n",
       "      <td>A</td>\n",
       "      <td>0</td>\n",
       "      <td>0</td>\n",
       "    </tr>\n",
       "    <tr>\n",
       "      <th>2</th>\n",
       "      <td>1483434000635940864</td>\n",
       "      <td>119495</td>\n",
       "      <td>A</td>\n",
       "      <td>113850000000</td>\n",
       "      <td>1</td>\n",
       "      <td>0</td>\n",
       "      <td>B</td>\n",
       "      <td>0</td>\n",
       "      <td>0</td>\n",
       "    </tr>\n",
       "    <tr>\n",
       "      <th>3</th>\n",
       "      <td>1483434000636172600</td>\n",
       "      <td>119503</td>\n",
       "      <td>A</td>\n",
       "      <td>111930000000</td>\n",
       "      <td>1</td>\n",
       "      <td>0</td>\n",
       "      <td>B</td>\n",
       "      <td>0</td>\n",
       "      <td>0</td>\n",
       "    </tr>\n",
       "    <tr>\n",
       "      <th>4</th>\n",
       "      <td>1483434000636250913</td>\n",
       "      <td>119507</td>\n",
       "      <td>A</td>\n",
       "      <td>112880000000</td>\n",
       "      <td>1</td>\n",
       "      <td>0</td>\n",
       "      <td>B</td>\n",
       "      <td>0</td>\n",
       "      <td>0</td>\n",
       "    </tr>\n",
       "  </tbody>\n",
       "</table>\n",
       "</div>"
      ],
      "text/plain": [
       "             timestamp  order_id book_event_type         price  quantity  \\\n",
       "0  1483434000011581301      1215               A   90000000000        10   \n",
       "1  1483434000012215442      1275               A  140000000000        10   \n",
       "2  1483434000635940864    119495               A  113850000000         1   \n",
       "3  1483434000636172600    119503               A  111930000000         1   \n",
       "4  1483434000636250913    119507               A  112880000000         1   \n",
       "\n",
       "   aux_quantity side  aux1  aux2  \n",
       "0             0    B     0     0  \n",
       "1             0    A     0     0  \n",
       "2             0    B     0     0  \n",
       "3             0    B     0     0  \n",
       "4             0    B     0     0  "
      ]
     },
     "execution_count": 6,
     "metadata": {},
     "output_type": "execute_result"
    }
   ],
   "source": [
    "NFLX.head()"
   ]
  },
  {
   "cell_type": "code",
   "execution_count": 7,
   "metadata": {},
   "outputs": [
    {
     "data": {
      "text/plain": [
       "A    200874\n",
       "C    189258\n",
       "M     67508\n",
       "T     19599\n",
       "Name: book_event_type, dtype: int64"
      ]
     },
     "execution_count": 7,
     "metadata": {},
     "output_type": "execute_result"
    }
   ],
   "source": [
    "NFLX.book_event_type.value_counts()"
   ]
  },
  {
   "cell_type": "code",
   "execution_count": 56,
   "metadata": {},
   "outputs": [
    {
     "data": {
      "text/plain": [
       "200875"
      ]
     },
     "execution_count": 56,
     "metadata": {},
     "output_type": "execute_result"
    }
   ],
   "source": [
    "len(NFLX.order_id.unique()) # many more order id, consistent with number of added transactions, the additional one is 0"
   ]
  },
  {
   "cell_type": "code",
   "execution_count": 8,
   "metadata": {},
   "outputs": [],
   "source": [
    "# subset only the traded transactions\n",
    "trade_data = NFLX[NFLX.book_event_type == \"T\"]"
   ]
  },
  {
   "cell_type": "code",
   "execution_count": 9,
   "metadata": {},
   "outputs": [
    {
     "data": {
      "text/plain": [
       "(19599, 9)"
      ]
     },
     "execution_count": 9,
     "metadata": {},
     "output_type": "execute_result"
    }
   ],
   "source": [
    "trade_data.shape"
   ]
  },
  {
   "cell_type": "code",
   "execution_count": 10,
   "metadata": {},
   "outputs": [
    {
     "data": {
      "text/html": [
       "<div>\n",
       "<style scoped>\n",
       "    .dataframe tbody tr th:only-of-type {\n",
       "        vertical-align: middle;\n",
       "    }\n",
       "\n",
       "    .dataframe tbody tr th {\n",
       "        vertical-align: top;\n",
       "    }\n",
       "\n",
       "    .dataframe thead th {\n",
       "        text-align: right;\n",
       "    }\n",
       "</style>\n",
       "<table border=\"1\" class=\"dataframe\">\n",
       "  <thead>\n",
       "    <tr style=\"text-align: right;\">\n",
       "      <th></th>\n",
       "      <th>timestamp</th>\n",
       "      <th>order_id</th>\n",
       "      <th>book_event_type</th>\n",
       "      <th>price</th>\n",
       "      <th>quantity</th>\n",
       "      <th>aux_quantity</th>\n",
       "      <th>side</th>\n",
       "      <th>aux1</th>\n",
       "      <th>aux2</th>\n",
       "    </tr>\n",
       "  </thead>\n",
       "  <tbody>\n",
       "    <tr>\n",
       "      <th>2994</th>\n",
       "      <td>1483436100564470760</td>\n",
       "      <td>580255</td>\n",
       "      <td>T</td>\n",
       "      <td>124500000000</td>\n",
       "      <td>17</td>\n",
       "      <td>183</td>\n",
       "      <td>B</td>\n",
       "      <td>35</td>\n",
       "      <td>0</td>\n",
       "    </tr>\n",
       "    <tr>\n",
       "      <th>38742</th>\n",
       "      <td>1483441624751322478</td>\n",
       "      <td>1104839</td>\n",
       "      <td>T</td>\n",
       "      <td>124990000000</td>\n",
       "      <td>90</td>\n",
       "      <td>0</td>\n",
       "      <td>A</td>\n",
       "      <td>35</td>\n",
       "      <td>0</td>\n",
       "    </tr>\n",
       "    <tr>\n",
       "      <th>43565</th>\n",
       "      <td>1483442022971714235</td>\n",
       "      <td>2442867</td>\n",
       "      <td>T</td>\n",
       "      <td>125300000000</td>\n",
       "      <td>1</td>\n",
       "      <td>44</td>\n",
       "      <td>A</td>\n",
       "      <td>35</td>\n",
       "      <td>0</td>\n",
       "    </tr>\n",
       "    <tr>\n",
       "      <th>58700</th>\n",
       "      <td>1483443092606495477</td>\n",
       "      <td>2548099</td>\n",
       "      <td>T</td>\n",
       "      <td>125150000000</td>\n",
       "      <td>2</td>\n",
       "      <td>12</td>\n",
       "      <td>A</td>\n",
       "      <td>35</td>\n",
       "      <td>0</td>\n",
       "    </tr>\n",
       "    <tr>\n",
       "      <th>61915</th>\n",
       "      <td>1483443297958687208</td>\n",
       "      <td>2548099</td>\n",
       "      <td>T</td>\n",
       "      <td>125150000000</td>\n",
       "      <td>12</td>\n",
       "      <td>0</td>\n",
       "      <td>A</td>\n",
       "      <td>35</td>\n",
       "      <td>0</td>\n",
       "    </tr>\n",
       "  </tbody>\n",
       "</table>\n",
       "</div>"
      ],
      "text/plain": [
       "                 timestamp  order_id book_event_type         price  quantity  \\\n",
       "2994   1483436100564470760    580255               T  124500000000        17   \n",
       "38742  1483441624751322478   1104839               T  124990000000        90   \n",
       "43565  1483442022971714235   2442867               T  125300000000         1   \n",
       "58700  1483443092606495477   2548099               T  125150000000         2   \n",
       "61915  1483443297958687208   2548099               T  125150000000        12   \n",
       "\n",
       "       aux_quantity side  aux1  aux2  \n",
       "2994            183    B    35     0  \n",
       "38742             0    A    35     0  \n",
       "43565            44    A    35     0  \n",
       "58700            12    A    35     0  \n",
       "61915             0    A    35     0  "
      ]
     },
     "execution_count": 10,
     "metadata": {},
     "output_type": "execute_result"
    }
   ],
   "source": [
    "trade_data.head()"
   ]
  },
  {
   "cell_type": "code",
   "execution_count": 11,
   "metadata": {},
   "outputs": [
    {
     "data": {
      "text/plain": [
       "True"
      ]
     },
     "execution_count": 11,
     "metadata": {},
     "output_type": "execute_result"
    }
   ],
   "source": [
    "# check if timestamp is sorted ---- YES\n",
    "import numpy as np\n",
    "\n",
    "def is_df_sorted(df, colname):\n",
    "    return (np.diff(df[colname]) >= 0).all()\n",
    "\n",
    "is_df_sorted(trade_data,\"timestamp\")"
   ]
  },
  {
   "cell_type": "code",
   "execution_count": 12,
   "metadata": {},
   "outputs": [
    {
     "name": "stdout",
     "output_type": "stream",
     "text": [
      "13719\n",
      "5880\n"
     ]
    }
   ],
   "source": [
    "# split into train and test\n",
    "# 70% train, 30% test, split sequentially\n",
    "train_size = int(trade_data.shape[0]*0.7)\n",
    "test_size = trade_data.shape[0] - train_size\n",
    "print(train_size)\n",
    "print(test_size)"
   ]
  },
  {
   "cell_type": "code",
   "execution_count": 13,
   "metadata": {},
   "outputs": [],
   "source": [
    "# subsetting to get train and test sets\n",
    "train = trade_data.head(train_size)\n",
    "test = trade_data.tail(test_size)"
   ]
  },
  {
   "cell_type": "markdown",
   "metadata": {},
   "source": [
    "#### Create features and labels"
   ]
  },
  {
   "cell_type": "code",
   "execution_count": 14,
   "metadata": {},
   "outputs": [],
   "source": [
    "# define threshold for up or down price movements (percentage change in price)\n",
    "# define window_size (the number of traded events in a prediction window) \n",
    "threshold = 0.0003 # for phase 2, used 0.0003, can also try 0.0002\n",
    "window_size = 50"
   ]
  },
  {
   "cell_type": "code",
   "execution_count": 15,
   "metadata": {},
   "outputs": [],
   "source": [
    "# define a function that creates features\n",
    "def create_feature_label(df_ori):\n",
    "    \n",
    "    df = df_ori.copy()\n",
    "    \n",
    "    # Calculate moving averages\n",
    "    df[\"mv_avg_3\"] = df.price.rolling(3,min_periods=1).mean()\n",
    "    df[\"mv_avg_6\"] = df.price.rolling(6,min_periods=1).mean()\n",
    "    df[\"mv_avg_12\"] = df.price.rolling(12,min_periods=1).mean()\n",
    "    df[\"mv_avg_24\"] = df.price.rolling(24,min_periods=1).mean()\n",
    "    \n",
    "    # Mix moving average\n",
    "    df[\"mix_mv_avg\"] = (df.mv_avg_3 + df.mv_avg_6 + df.mv_avg_12 + df.mv_avg_24)/4\n",
    "    # Calculate the difference b/w mv_avg_3 and mv_avg_6\n",
    "    df['mv_avg_diff'] = df.mv_avg_3-df.mv_avg_6\n",
    "        \n",
    "    # Average quantity for past 5 transactions\n",
    "    df['avg_quantity'] = df.quantity.rolling(5, min_periods = 1).mean()\n",
    "    # Quantity / Price\n",
    "    df['quantity_price'] = df.quantity / df.price\n",
    "    \n",
    "    \n",
    "    # Price diff features\n",
    "    df['price_diff'] = df.price.diff()\n",
    "    # Price difference between 5 transactions\n",
    "    df['5_price_diff'] = df.price.diff(periods = 4)\n",
    "       \n",
    "    # No. of days that have a increase in price in 10-transaction period\n",
    "    df['pos'] = [1 if x>0 else 0 for x in df.price_diff.shift(-1)]\n",
    "    df['ct_rising'] = df.pos.rolling(10, min_periods = 1).sum()\n",
    "    \n",
    "    # Indicator for aux quantity\n",
    "    df['aux_flag'] = [1 if x >0 else 0 for x in df.aux_quantity]\n",
    "    \n",
    "    # Back fill the first NA for price_diff\n",
    "    df['price_diff'] = df['price_diff'].bfill()\n",
    "    df['5_price_diff'] = df['5_price_diff'].bfill()\n",
    "    \n",
    "    \n",
    "    # Create label for 0, 1, -1\n",
    "    # average price of the trades within the window\n",
    "    df['window_price_avg'] = df.price.rolling(window_size, min_periods = 1).mean().shift(-window_size+1).ffill()\n",
    "    # price movement: compare average price in window with the price for the transaction right after\n",
    "    df['price_move'] = df['price'].shift(-window_size) - df['window_price_avg']\n",
    "    df['price_move'] = df['price_move'].ffill()\n",
    "    # percentage change from average price in window to the price for the transaction right after\n",
    "    df['perc'] = df['price'].shift(-window_size)/df['window_price_avg'] - 1\n",
    "    df['perc'] = df['perc'].ffill()\n",
    "    # create labels based on price change direction and magnitude (% change has to be above threshold)\n",
    "    df[\"label\"] = [1 if x > threshold else -1 if x < -threshold else 0 for x in df[\"perc\"]] \n",
    "       \n",
    "    return df"
   ]
  },
  {
   "cell_type": "code",
   "execution_count": 16,
   "metadata": {},
   "outputs": [],
   "source": [
    "# add features and labels for train and test\n",
    "train_2 = create_feature_label(train)\n",
    "test_2 = create_feature_label(test)"
   ]
  },
  {
   "cell_type": "code",
   "execution_count": 17,
   "metadata": {},
   "outputs": [
    {
     "data": {
      "text/html": [
       "<div>\n",
       "<style scoped>\n",
       "    .dataframe tbody tr th:only-of-type {\n",
       "        vertical-align: middle;\n",
       "    }\n",
       "\n",
       "    .dataframe tbody tr th {\n",
       "        vertical-align: top;\n",
       "    }\n",
       "\n",
       "    .dataframe thead th {\n",
       "        text-align: right;\n",
       "    }\n",
       "</style>\n",
       "<table border=\"1\" class=\"dataframe\">\n",
       "  <thead>\n",
       "    <tr style=\"text-align: right;\">\n",
       "      <th></th>\n",
       "      <th>timestamp</th>\n",
       "      <th>order_id</th>\n",
       "      <th>book_event_type</th>\n",
       "      <th>price</th>\n",
       "      <th>quantity</th>\n",
       "      <th>aux_quantity</th>\n",
       "      <th>side</th>\n",
       "      <th>aux1</th>\n",
       "      <th>aux2</th>\n",
       "      <th>mv_avg_3</th>\n",
       "      <th>...</th>\n",
       "      <th>quantity_price</th>\n",
       "      <th>price_diff</th>\n",
       "      <th>5_price_diff</th>\n",
       "      <th>pos</th>\n",
       "      <th>ct_rising</th>\n",
       "      <th>aux_flag</th>\n",
       "      <th>window_price_avg</th>\n",
       "      <th>price_move</th>\n",
       "      <th>perc</th>\n",
       "      <th>label</th>\n",
       "    </tr>\n",
       "  </thead>\n",
       "  <tbody>\n",
       "    <tr>\n",
       "      <th>2994</th>\n",
       "      <td>1483436100564470760</td>\n",
       "      <td>580255</td>\n",
       "      <td>T</td>\n",
       "      <td>124500000000</td>\n",
       "      <td>17</td>\n",
       "      <td>183</td>\n",
       "      <td>B</td>\n",
       "      <td>35</td>\n",
       "      <td>0</td>\n",
       "      <td>1.245000e+11</td>\n",
       "      <td>...</td>\n",
       "      <td>1.365462e-10</td>\n",
       "      <td>490000000.0</td>\n",
       "      <td>650000000.0</td>\n",
       "      <td>1</td>\n",
       "      <td>1.0</td>\n",
       "      <td>1</td>\n",
       "      <td>1.248342e+11</td>\n",
       "      <td>45800000.0</td>\n",
       "      <td>0.000367</td>\n",
       "      <td>1</td>\n",
       "    </tr>\n",
       "    <tr>\n",
       "      <th>38742</th>\n",
       "      <td>1483441624751322478</td>\n",
       "      <td>1104839</td>\n",
       "      <td>T</td>\n",
       "      <td>124990000000</td>\n",
       "      <td>90</td>\n",
       "      <td>0</td>\n",
       "      <td>A</td>\n",
       "      <td>35</td>\n",
       "      <td>0</td>\n",
       "      <td>1.247450e+11</td>\n",
       "      <td>...</td>\n",
       "      <td>7.200576e-10</td>\n",
       "      <td>490000000.0</td>\n",
       "      <td>650000000.0</td>\n",
       "      <td>1</td>\n",
       "      <td>2.0</td>\n",
       "      <td>0</td>\n",
       "      <td>1.248418e+11</td>\n",
       "      <td>-31800000.0</td>\n",
       "      <td>-0.000255</td>\n",
       "      <td>0</td>\n",
       "    </tr>\n",
       "    <tr>\n",
       "      <th>43565</th>\n",
       "      <td>1483442022971714235</td>\n",
       "      <td>2442867</td>\n",
       "      <td>T</td>\n",
       "      <td>125300000000</td>\n",
       "      <td>1</td>\n",
       "      <td>44</td>\n",
       "      <td>A</td>\n",
       "      <td>35</td>\n",
       "      <td>0</td>\n",
       "      <td>1.249300e+11</td>\n",
       "      <td>...</td>\n",
       "      <td>7.980846e-12</td>\n",
       "      <td>310000000.0</td>\n",
       "      <td>650000000.0</td>\n",
       "      <td>0</td>\n",
       "      <td>2.0</td>\n",
       "      <td>1</td>\n",
       "      <td>1.248382e+11</td>\n",
       "      <td>-298200000.0</td>\n",
       "      <td>-0.002389</td>\n",
       "      <td>-1</td>\n",
       "    </tr>\n",
       "    <tr>\n",
       "      <th>58700</th>\n",
       "      <td>1483443092606495477</td>\n",
       "      <td>2548099</td>\n",
       "      <td>T</td>\n",
       "      <td>125150000000</td>\n",
       "      <td>2</td>\n",
       "      <td>12</td>\n",
       "      <td>A</td>\n",
       "      <td>35</td>\n",
       "      <td>0</td>\n",
       "      <td>1.251467e+11</td>\n",
       "      <td>...</td>\n",
       "      <td>1.598082e-11</td>\n",
       "      <td>-150000000.0</td>\n",
       "      <td>650000000.0</td>\n",
       "      <td>0</td>\n",
       "      <td>2.0</td>\n",
       "      <td>1</td>\n",
       "      <td>1.248230e+11</td>\n",
       "      <td>47000000.0</td>\n",
       "      <td>0.000377</td>\n",
       "      <td>1</td>\n",
       "    </tr>\n",
       "    <tr>\n",
       "      <th>61915</th>\n",
       "      <td>1483443297958687208</td>\n",
       "      <td>2548099</td>\n",
       "      <td>T</td>\n",
       "      <td>125150000000</td>\n",
       "      <td>12</td>\n",
       "      <td>0</td>\n",
       "      <td>A</td>\n",
       "      <td>35</td>\n",
       "      <td>0</td>\n",
       "      <td>1.252000e+11</td>\n",
       "      <td>...</td>\n",
       "      <td>9.588494e-11</td>\n",
       "      <td>0.0</td>\n",
       "      <td>650000000.0</td>\n",
       "      <td>1</td>\n",
       "      <td>3.0</td>\n",
       "      <td>0</td>\n",
       "      <td>1.248174e+11</td>\n",
       "      <td>-137400000.0</td>\n",
       "      <td>-0.001101</td>\n",
       "      <td>-1</td>\n",
       "    </tr>\n",
       "  </tbody>\n",
       "</table>\n",
       "<p>5 rows × 26 columns</p>\n",
       "</div>"
      ],
      "text/plain": [
       "                 timestamp  order_id book_event_type         price  quantity  \\\n",
       "2994   1483436100564470760    580255               T  124500000000        17   \n",
       "38742  1483441624751322478   1104839               T  124990000000        90   \n",
       "43565  1483442022971714235   2442867               T  125300000000         1   \n",
       "58700  1483443092606495477   2548099               T  125150000000         2   \n",
       "61915  1483443297958687208   2548099               T  125150000000        12   \n",
       "\n",
       "       aux_quantity side  aux1  aux2      mv_avg_3  ...    quantity_price  \\\n",
       "2994            183    B    35     0  1.245000e+11  ...      1.365462e-10   \n",
       "38742             0    A    35     0  1.247450e+11  ...      7.200576e-10   \n",
       "43565            44    A    35     0  1.249300e+11  ...      7.980846e-12   \n",
       "58700            12    A    35     0  1.251467e+11  ...      1.598082e-11   \n",
       "61915             0    A    35     0  1.252000e+11  ...      9.588494e-11   \n",
       "\n",
       "        price_diff  5_price_diff  pos  ct_rising  aux_flag  window_price_avg  \\\n",
       "2994   490000000.0   650000000.0    1        1.0         1      1.248342e+11   \n",
       "38742  490000000.0   650000000.0    1        2.0         0      1.248418e+11   \n",
       "43565  310000000.0   650000000.0    0        2.0         1      1.248382e+11   \n",
       "58700 -150000000.0   650000000.0    0        2.0         1      1.248230e+11   \n",
       "61915          0.0   650000000.0    1        3.0         0      1.248174e+11   \n",
       "\n",
       "        price_move      perc  label  \n",
       "2994    45800000.0  0.000367      1  \n",
       "38742  -31800000.0 -0.000255      0  \n",
       "43565 -298200000.0 -0.002389     -1  \n",
       "58700   47000000.0  0.000377      1  \n",
       "61915 -137400000.0 -0.001101     -1  \n",
       "\n",
       "[5 rows x 26 columns]"
      ]
     },
     "execution_count": 17,
     "metadata": {},
     "output_type": "execute_result"
    }
   ],
   "source": [
    "train_2.head()"
   ]
  },
  {
   "cell_type": "code",
   "execution_count": 18,
   "metadata": {},
   "outputs": [
    {
     "data": {
      "text/html": [
       "<div>\n",
       "<style scoped>\n",
       "    .dataframe tbody tr th:only-of-type {\n",
       "        vertical-align: middle;\n",
       "    }\n",
       "\n",
       "    .dataframe tbody tr th {\n",
       "        vertical-align: top;\n",
       "    }\n",
       "\n",
       "    .dataframe thead th {\n",
       "        text-align: right;\n",
       "    }\n",
       "</style>\n",
       "<table border=\"1\" class=\"dataframe\">\n",
       "  <thead>\n",
       "    <tr style=\"text-align: right;\">\n",
       "      <th></th>\n",
       "      <th>timestamp</th>\n",
       "      <th>order_id</th>\n",
       "      <th>book_event_type</th>\n",
       "      <th>price</th>\n",
       "      <th>quantity</th>\n",
       "      <th>aux_quantity</th>\n",
       "      <th>side</th>\n",
       "      <th>aux1</th>\n",
       "      <th>aux2</th>\n",
       "      <th>mv_avg_3</th>\n",
       "      <th>...</th>\n",
       "      <th>quantity_price</th>\n",
       "      <th>price_diff</th>\n",
       "      <th>5_price_diff</th>\n",
       "      <th>pos</th>\n",
       "      <th>ct_rising</th>\n",
       "      <th>aux_flag</th>\n",
       "      <th>window_price_avg</th>\n",
       "      <th>price_move</th>\n",
       "      <th>perc</th>\n",
       "      <th>label</th>\n",
       "    </tr>\n",
       "  </thead>\n",
       "  <tbody>\n",
       "    <tr>\n",
       "      <th>384091</th>\n",
       "      <td>1483470380220255598</td>\n",
       "      <td>210270371</td>\n",
       "      <td>T</td>\n",
       "      <td>126740000000</td>\n",
       "      <td>100</td>\n",
       "      <td>0</td>\n",
       "      <td>A</td>\n",
       "      <td>35</td>\n",
       "      <td>0</td>\n",
       "      <td>1.267433e+11</td>\n",
       "      <td>...</td>\n",
       "      <td>7.890169e-10</td>\n",
       "      <td>0.0</td>\n",
       "      <td>0.0</td>\n",
       "      <td>0</td>\n",
       "      <td>1.0</td>\n",
       "      <td>0</td>\n",
       "      <td>1.267886e+11</td>\n",
       "      <td>-40600000.0</td>\n",
       "      <td>-0.00032</td>\n",
       "      <td>-1</td>\n",
       "    </tr>\n",
       "    <tr>\n",
       "      <th>384120</th>\n",
       "      <td>1483470381361762054</td>\n",
       "      <td>210290603</td>\n",
       "      <td>T</td>\n",
       "      <td>126730000000</td>\n",
       "      <td>100</td>\n",
       "      <td>0</td>\n",
       "      <td>B</td>\n",
       "      <td>35</td>\n",
       "      <td>0</td>\n",
       "      <td>1.267367e+11</td>\n",
       "      <td>...</td>\n",
       "      <td>7.890791e-10</td>\n",
       "      <td>-10000000.0</td>\n",
       "      <td>-20000000.0</td>\n",
       "      <td>0</td>\n",
       "      <td>1.0</td>\n",
       "      <td>0</td>\n",
       "      <td>1.267886e+11</td>\n",
       "      <td>-40600000.0</td>\n",
       "      <td>-0.00032</td>\n",
       "      <td>-1</td>\n",
       "    </tr>\n",
       "    <tr>\n",
       "      <th>384121</th>\n",
       "      <td>1483470381361762054</td>\n",
       "      <td>210290695</td>\n",
       "      <td>T</td>\n",
       "      <td>126730000000</td>\n",
       "      <td>100</td>\n",
       "      <td>0</td>\n",
       "      <td>B</td>\n",
       "      <td>35</td>\n",
       "      <td>0</td>\n",
       "      <td>1.267333e+11</td>\n",
       "      <td>...</td>\n",
       "      <td>7.890791e-10</td>\n",
       "      <td>0.0</td>\n",
       "      <td>-20000000.0</td>\n",
       "      <td>1</td>\n",
       "      <td>2.0</td>\n",
       "      <td>0</td>\n",
       "      <td>1.267886e+11</td>\n",
       "      <td>-40600000.0</td>\n",
       "      <td>-0.00032</td>\n",
       "      <td>-1</td>\n",
       "    </tr>\n",
       "    <tr>\n",
       "      <th>384185</th>\n",
       "      <td>1483470396530361406</td>\n",
       "      <td>210380587</td>\n",
       "      <td>T</td>\n",
       "      <td>126750000000</td>\n",
       "      <td>62</td>\n",
       "      <td>38</td>\n",
       "      <td>A</td>\n",
       "      <td>35</td>\n",
       "      <td>0</td>\n",
       "      <td>1.267367e+11</td>\n",
       "      <td>...</td>\n",
       "      <td>4.891519e-10</td>\n",
       "      <td>20000000.0</td>\n",
       "      <td>10000000.0</td>\n",
       "      <td>0</td>\n",
       "      <td>2.0</td>\n",
       "      <td>1</td>\n",
       "      <td>1.267886e+11</td>\n",
       "      <td>-40600000.0</td>\n",
       "      <td>-0.00032</td>\n",
       "      <td>-1</td>\n",
       "    </tr>\n",
       "    <tr>\n",
       "      <th>384186</th>\n",
       "      <td>1483470396530398733</td>\n",
       "      <td>210380587</td>\n",
       "      <td>T</td>\n",
       "      <td>126750000000</td>\n",
       "      <td>38</td>\n",
       "      <td>0</td>\n",
       "      <td>A</td>\n",
       "      <td>35</td>\n",
       "      <td>0</td>\n",
       "      <td>1.267433e+11</td>\n",
       "      <td>...</td>\n",
       "      <td>2.998028e-10</td>\n",
       "      <td>0.0</td>\n",
       "      <td>10000000.0</td>\n",
       "      <td>0</td>\n",
       "      <td>2.0</td>\n",
       "      <td>0</td>\n",
       "      <td>1.267886e+11</td>\n",
       "      <td>-40600000.0</td>\n",
       "      <td>-0.00032</td>\n",
       "      <td>-1</td>\n",
       "    </tr>\n",
       "  </tbody>\n",
       "</table>\n",
       "<p>5 rows × 26 columns</p>\n",
       "</div>"
      ],
      "text/plain": [
       "                  timestamp   order_id book_event_type         price  \\\n",
       "384091  1483470380220255598  210270371               T  126740000000   \n",
       "384120  1483470381361762054  210290603               T  126730000000   \n",
       "384121  1483470381361762054  210290695               T  126730000000   \n",
       "384185  1483470396530361406  210380587               T  126750000000   \n",
       "384186  1483470396530398733  210380587               T  126750000000   \n",
       "\n",
       "        quantity  aux_quantity side  aux1  aux2      mv_avg_3  ...    \\\n",
       "384091       100             0    A    35     0  1.267433e+11  ...     \n",
       "384120       100             0    B    35     0  1.267367e+11  ...     \n",
       "384121       100             0    B    35     0  1.267333e+11  ...     \n",
       "384185        62            38    A    35     0  1.267367e+11  ...     \n",
       "384186        38             0    A    35     0  1.267433e+11  ...     \n",
       "\n",
       "        quantity_price  price_diff  5_price_diff  pos  ct_rising  aux_flag  \\\n",
       "384091    7.890169e-10         0.0           0.0    0        1.0         0   \n",
       "384120    7.890791e-10 -10000000.0   -20000000.0    0        1.0         0   \n",
       "384121    7.890791e-10         0.0   -20000000.0    1        2.0         0   \n",
       "384185    4.891519e-10  20000000.0    10000000.0    0        2.0         1   \n",
       "384186    2.998028e-10         0.0    10000000.0    0        2.0         0   \n",
       "\n",
       "        window_price_avg  price_move     perc  label  \n",
       "384091      1.267886e+11 -40600000.0 -0.00032     -1  \n",
       "384120      1.267886e+11 -40600000.0 -0.00032     -1  \n",
       "384121      1.267886e+11 -40600000.0 -0.00032     -1  \n",
       "384185      1.267886e+11 -40600000.0 -0.00032     -1  \n",
       "384186      1.267886e+11 -40600000.0 -0.00032     -1  \n",
       "\n",
       "[5 rows x 26 columns]"
      ]
     },
     "execution_count": 18,
     "metadata": {},
     "output_type": "execute_result"
    }
   ],
   "source": [
    "train_2.tail()"
   ]
  },
  {
   "cell_type": "code",
   "execution_count": 19,
   "metadata": {},
   "outputs": [
    {
     "data": {
      "text/plain": [
       " 0    6117\n",
       " 1    4126\n",
       "-1    3476\n",
       "Name: label, dtype: int64"
      ]
     },
     "execution_count": 19,
     "metadata": {},
     "output_type": "execute_result"
    }
   ],
   "source": [
    "# check structure in train set before reshaping\n",
    "train_2.label.value_counts() # threshold = 0.0003"
   ]
  },
  {
   "cell_type": "code",
   "execution_count": 20,
   "metadata": {},
   "outputs": [
    {
     "data": {
      "text/plain": [
       " 0    4519\n",
       " 1     793\n",
       "-1     568\n",
       "Name: label, dtype: int64"
      ]
     },
     "execution_count": 20,
     "metadata": {},
     "output_type": "execute_result"
    }
   ],
   "source": [
    "# check structure in test set before reshaping\n",
    "test_2.label.value_counts()"
   ]
  },
  {
   "cell_type": "markdown",
   "metadata": {},
   "source": [
    "#### Process train and test data\n",
    "- Select features\n",
    "- Scale\n",
    "- Reshape to a shape that's consistent with CNN"
   ]
  },
  {
   "cell_type": "code",
   "execution_count": 21,
   "metadata": {},
   "outputs": [],
   "source": [
    "# features we need\n",
    "#col_for_x = ['price', 'mv_avg_3','mv_avg_6','mv_avg_12','mv_avg_24','mix_mv_avg','5_price_diff']\n",
    "col_for_x = ['mix_mv_avg','5_price_diff','mv_avg_diff', 'avg_quantity','quantity_price','ct_rising','aux_flag', 'price']\n",
    "#col_for_x = ['mix_mv_avg','5_price_diff','mv_avg_diff', 'avg_quantity','quantity_price','ct_rising','aux_flag']\n",
    "\n",
    "X_train = train_2[col_for_x]\n",
    "y_train = train_2['label']\n",
    "X_test = test_2[col_for_x]\n",
    "y_test = test_2['label']"
   ]
  },
  {
   "cell_type": "code",
   "execution_count": 22,
   "metadata": {},
   "outputs": [],
   "source": [
    "# normalize values for train and test\n",
    "X_train_scaled = pd.DataFrame(preprocessing.scale(X_train))\n",
    "X_train_scaled.columns = col_for_x\n",
    "\n",
    "X_test_scaled = pd.DataFrame(preprocessing.scale(X_test))\n",
    "X_test_scaled.columns = col_for_x"
   ]
  },
  {
   "cell_type": "code",
   "execution_count": 23,
   "metadata": {},
   "outputs": [],
   "source": [
    "y_train.columns = 'label'\n",
    "y_test.columns = 'label'"
   ]
  },
  {
   "cell_type": "code",
   "execution_count": 24,
   "metadata": {},
   "outputs": [
    {
     "data": {
      "text/plain": [
       "13719"
      ]
     },
     "execution_count": 24,
     "metadata": {},
     "output_type": "execute_result"
    }
   ],
   "source": [
    "len(y_train)"
   ]
  },
  {
   "cell_type": "code",
   "execution_count": 25,
   "metadata": {},
   "outputs": [
    {
     "data": {
      "text/html": [
       "<div>\n",
       "<style scoped>\n",
       "    .dataframe tbody tr th:only-of-type {\n",
       "        vertical-align: middle;\n",
       "    }\n",
       "\n",
       "    .dataframe tbody tr th {\n",
       "        vertical-align: top;\n",
       "    }\n",
       "\n",
       "    .dataframe thead th {\n",
       "        text-align: right;\n",
       "    }\n",
       "</style>\n",
       "<table border=\"1\" class=\"dataframe\">\n",
       "  <thead>\n",
       "    <tr style=\"text-align: right;\">\n",
       "      <th></th>\n",
       "      <th>mix_mv_avg</th>\n",
       "      <th>5_price_diff</th>\n",
       "      <th>mv_avg_diff</th>\n",
       "      <th>avg_quantity</th>\n",
       "      <th>quantity_price</th>\n",
       "      <th>ct_rising</th>\n",
       "      <th>aux_flag</th>\n",
       "      <th>price</th>\n",
       "    </tr>\n",
       "  </thead>\n",
       "  <tbody>\n",
       "    <tr>\n",
       "      <th>0</th>\n",
       "      <td>-4.039568</td>\n",
       "      <td>15.605317</td>\n",
       "      <td>-0.014019</td>\n",
       "      <td>-0.763750</td>\n",
       "      <td>-0.360214</td>\n",
       "      <td>-0.631584</td>\n",
       "      <td>1.992198</td>\n",
       "      <td>-4.043781</td>\n",
       "    </tr>\n",
       "    <tr>\n",
       "      <th>1</th>\n",
       "      <td>-3.654915</td>\n",
       "      <td>15.605317</td>\n",
       "      <td>-0.014019</td>\n",
       "      <td>-0.476376</td>\n",
       "      <td>-0.083955</td>\n",
       "      <td>0.031210</td>\n",
       "      <td>-0.501958</td>\n",
       "      <td>-3.273875</td>\n",
       "    </tr>\n",
       "    <tr>\n",
       "      <th>2</th>\n",
       "      <td>-3.364463</td>\n",
       "      <td>15.605317</td>\n",
       "      <td>-0.014019</td>\n",
       "      <td>-0.614158</td>\n",
       "      <td>-0.421082</td>\n",
       "      <td>0.031210</td>\n",
       "      <td>1.992198</td>\n",
       "      <td>-2.786792</td>\n",
       "    </tr>\n",
       "    <tr>\n",
       "      <th>3</th>\n",
       "      <td>-3.214658</td>\n",
       "      <td>15.605317</td>\n",
       "      <td>11.042850</td>\n",
       "      <td>-0.681081</td>\n",
       "      <td>-0.417294</td>\n",
       "      <td>0.031210</td>\n",
       "      <td>1.992198</td>\n",
       "      <td>-3.022478</td>\n",
       "    </tr>\n",
       "    <tr>\n",
       "      <th>4</th>\n",
       "      <td>-3.154867</td>\n",
       "      <td>15.605317</td>\n",
       "      <td>12.433507</td>\n",
       "      <td>-0.705488</td>\n",
       "      <td>-0.379464</td>\n",
       "      <td>0.694003</td>\n",
       "      <td>-0.501958</td>\n",
       "      <td>-3.022478</td>\n",
       "    </tr>\n",
       "  </tbody>\n",
       "</table>\n",
       "</div>"
      ],
      "text/plain": [
       "   mix_mv_avg  5_price_diff  mv_avg_diff  avg_quantity  quantity_price  \\\n",
       "0   -4.039568     15.605317    -0.014019     -0.763750       -0.360214   \n",
       "1   -3.654915     15.605317    -0.014019     -0.476376       -0.083955   \n",
       "2   -3.364463     15.605317    -0.014019     -0.614158       -0.421082   \n",
       "3   -3.214658     15.605317    11.042850     -0.681081       -0.417294   \n",
       "4   -3.154867     15.605317    12.433507     -0.705488       -0.379464   \n",
       "\n",
       "   ct_rising  aux_flag     price  \n",
       "0  -0.631584  1.992198 -4.043781  \n",
       "1   0.031210 -0.501958 -3.273875  \n",
       "2   0.031210  1.992198 -2.786792  \n",
       "3   0.031210  1.992198 -3.022478  \n",
       "4   0.694003 -0.501958 -3.022478  "
      ]
     },
     "execution_count": 25,
     "metadata": {},
     "output_type": "execute_result"
    }
   ],
   "source": [
    "X_train_scaled.head()"
   ]
  },
  {
   "cell_type": "code",
   "execution_count": 26,
   "metadata": {},
   "outputs": [
    {
     "data": {
      "text/plain": [
       "(13719, 8)"
      ]
     },
     "execution_count": 26,
     "metadata": {},
     "output_type": "execute_result"
    }
   ],
   "source": [
    "X_train_scaled.shape"
   ]
  },
  {
   "cell_type": "code",
   "execution_count": 27,
   "metadata": {},
   "outputs": [],
   "source": [
    "# define a function for reshaping\n",
    "def reshape(df,window_size=50):\n",
    "    df_as_array=np.array(df)\n",
    "    temp = np.array([np.arange(i-window_size,i) for i in range(window_size,df.shape[0])])\n",
    "    new_df = df_as_array[temp[0:len(temp)]]\n",
    "    new_df2 = new_df.reshape(len(temp),8*window_size)\n",
    "    return new_df2    "
   ]
  },
  {
   "cell_type": "code",
   "execution_count": 28,
   "metadata": {},
   "outputs": [],
   "source": [
    "# apply the reshape function \n",
    "X_train_reshaped = reshape(X_train_scaled)\n",
    "X_test_reshaped = reshape(X_test_scaled)"
   ]
  },
  {
   "cell_type": "code",
   "execution_count": 29,
   "metadata": {},
   "outputs": [],
   "source": [
    "# update the y_train and y_test labels (we don't need the last 50)\n",
    "y_train = y_train[:-50]\n",
    "y_test = y_test[:-50]"
   ]
  },
  {
   "cell_type": "code",
   "execution_count": 30,
   "metadata": {},
   "outputs": [
    {
     "data": {
      "text/plain": [
       " 0    6117\n",
       " 1    4126\n",
       "-1    3426\n",
       "Name: label, dtype: int64"
      ]
     },
     "execution_count": 30,
     "metadata": {},
     "output_type": "execute_result"
    }
   ],
   "source": [
    "# check structure in train after reshaping\n",
    "y_train.value_counts()"
   ]
  },
  {
   "cell_type": "code",
   "execution_count": 31,
   "metadata": {},
   "outputs": [
    {
     "data": {
      "text/plain": [
       " 0    4519\n",
       " 1     743\n",
       "-1     568\n",
       "Name: label, dtype: int64"
      ]
     },
     "execution_count": 31,
     "metadata": {},
     "output_type": "execute_result"
    }
   ],
   "source": [
    "# check structure in test after reshaping\n",
    "y_test.value_counts()"
   ]
  },
  {
   "cell_type": "code",
   "execution_count": 34,
   "metadata": {},
   "outputs": [],
   "source": [
    "'''\n",
    "X_train_scaled.to_csv('x_train_scaled.csv', sep=',', index=False)\n",
    "X_test_scaled.to_csv('x_test_scaled.csv', sep=',', index=False)\n",
    "y_train.to_csv('y_train.csv', sep=',', index=False)\n",
    "y_test.to_csv('y_test.csv', sep=',', index=False)\n",
    "'''"
   ]
  },
  {
   "cell_type": "code",
   "execution_count": 176,
   "metadata": {},
   "outputs": [],
   "source": [
    "a = pd.DataFrame(X_train_reshaped)"
   ]
  },
  {
   "cell_type": "code",
   "execution_count": 177,
   "metadata": {},
   "outputs": [
    {
     "data": {
      "text/plain": [
       "(13669, 400)"
      ]
     },
     "execution_count": 177,
     "metadata": {},
     "output_type": "execute_result"
    }
   ],
   "source": [
    "a.shape"
   ]
  },
  {
   "cell_type": "code",
   "execution_count": 159,
   "metadata": {},
   "outputs": [],
   "source": [
    "# Export to CSV for FFN and CNN ---- IF WANT TO EXPORT, CHANGE TO DF FIRST\n",
    "# X_train_tocsv = X_train_scaled\n",
    "# X_train_tocsv['label'] = np.array(y_train)\n",
    "# X_test_tocsv = X_test_scaled\n",
    "# X_test_tocsv['label'] = np.array(y_test)\n",
    "# X_train_tocsv.to_csv('train.csv', sep = ',', index = False) # 2 means 0.0002 threshold\n",
    "# X_test_tocsv.to_csv('test.csv', sep = ',', index = False) \n"
   ]
  },
  {
   "cell_type": "markdown",
   "metadata": {},
   "source": [
    "### Random Forest"
   ]
  },
  {
   "cell_type": "code",
   "execution_count": 178,
   "metadata": {},
   "outputs": [
    {
     "data": {
      "text/plain": [
       "RandomForestClassifier(bootstrap=True, class_weight=None, criterion='entropy',\n",
       "            max_depth=None, max_features='auto', max_leaf_nodes=None,\n",
       "            min_impurity_decrease=0.0, min_impurity_split=None,\n",
       "            min_samples_leaf=1, min_samples_split=2,\n",
       "            min_weight_fraction_leaf=0.0, n_estimators=100, n_jobs=None,\n",
       "            oob_score=False, random_state=123, verbose=0, warm_start=False)"
      ]
     },
     "execution_count": 178,
     "metadata": {},
     "output_type": "execute_result"
    }
   ],
   "source": [
    "# build a RF\n",
    "rf_clf = RandomForestClassifier(n_estimators = 100, criterion = 'entropy', random_state = 123)\n",
    "rf_clf.fit(X_train_reshaped, y_train)"
   ]
  },
  {
   "cell_type": "code",
   "execution_count": 179,
   "metadata": {},
   "outputs": [],
   "source": [
    "# Predicting the Test set results\n",
    "y_pred = rf_clf.predict(X_test_reshaped)"
   ]
  },
  {
   "cell_type": "code",
   "execution_count": 180,
   "metadata": {},
   "outputs": [
    {
     "name": "stdout",
     "output_type": "stream",
     "text": [
      "Predicted   -1     0    1\n",
      "Actual                   \n",
      "-1         495    66    7\n",
      " 0         503  3164  852\n",
      " 1           3    80  660\n",
      "              precision    recall  f1-score   support\n",
      "\n",
      "          -1       0.49      0.87      0.63       568\n",
      "           0       0.96      0.70      0.81      4519\n",
      "           1       0.43      0.89      0.58       743\n",
      "\n",
      "   micro avg       0.74      0.74      0.74      5830\n",
      "   macro avg       0.63      0.82      0.67      5830\n",
      "weighted avg       0.84      0.74      0.76      5830\n",
      "\n",
      "Accuracy: 0.7408233276157804\n",
      "Cohen's Kappa: 0.4917953769580574\n"
     ]
    }
   ],
   "source": [
    "print(pd.crosstab(y_test, y_pred, rownames=['Actual'], colnames=['Predicted']))\n",
    "print(metrics.classification_report(y_test,y_pred))\n",
    "print(\"Accuracy: \" + str(metrics.accuracy_score(y_test,y_pred)))\n",
    "print(\"Cohen's Kappa: \" + str(metrics.cohen_kappa_score(y_test,y_pred)))"
   ]
  },
  {
   "cell_type": "markdown",
   "metadata": {},
   "source": [
    "#### Tune Hyper Parameters for RF"
   ]
  },
  {
   "cell_type": "code",
   "execution_count": 32,
   "metadata": {},
   "outputs": [],
   "source": [
    "from sklearn.model_selection import GridSearchCV\n",
    "def print_grid_search_metrics(gs):\n",
    "    print (\"Best score: %0.3f\" % gs.best_score_)\n",
    "    print (\"Best parameters set:\")\n",
    "    best_parameters = gs.best_params_\n",
    "    for param_name in sorted(parameters.keys()):\n",
    "        print(\"\\t%s: %r\" % (param_name, best_parameters[param_name]))"
   ]
  },
  {
   "cell_type": "code",
   "execution_count": 136,
   "metadata": {},
   "outputs": [
    {
     "name": "stdout",
     "output_type": "stream",
     "text": [
      "Best score: 0.682\n",
      "Best parameters set:\n",
      "\tcriterion: 'entropy'\n",
      "\tmin_samples_leaf: 10\n",
      "\tn_estimators: 300\n",
      "\trandom_state: 123\n",
      "Predicted   -1     0    1\n",
      "Actual                   \n",
      "-1         488    68   12\n",
      " 0         420  3275  824\n",
      " 1           4    86  653\n",
      "              precision    recall  f1-score   support\n",
      "\n",
      "          -1       0.54      0.86      0.66       568\n",
      "           0       0.96      0.72      0.82      4519\n",
      "           1       0.44      0.88      0.59       743\n",
      "\n",
      "   micro avg       0.76      0.76      0.76      5830\n",
      "   macro avg       0.64      0.82      0.69      5830\n",
      "weighted avg       0.85      0.76      0.78      5830\n",
      "\n",
      "Accuracy: 0.7574614065180103\n",
      "Cohen's Kappa: 0.5113127075342052\n"
     ]
    }
   ],
   "source": [
    "# result with price as feature\n",
    "parameters = {\n",
    "    'n_estimators' : [100,200,300],\n",
    "    'min_samples_leaf':[10,20,30],\n",
    "    'random_state':[123],\n",
    "    'criterion':['entropy']\n",
    "}\n",
    "Grid_RF = GridSearchCV(RandomForestClassifier(),parameters, cv=3)\n",
    "Grid_RF.fit(X_train_reshaped, y_train)\n",
    "print_grid_search_metrics(Grid_RF)\n",
    "\n",
    "best_RF_model = Grid_RF.best_estimator_\n",
    "\n",
    "# Predicting the Test set results\n",
    "y_pred = best_RF_model.predict(X_test_reshaped)\n",
    "print(pd.crosstab(y_test, y_pred, rownames=['Actual'], colnames=['Predicted']))\n",
    "print(metrics.classification_report(y_test,y_pred))\n",
    "print(\"Accuracy: \" + str(metrics.accuracy_score(y_test,y_pred)))\n",
    "print(\"Cohen's Kappa: \"+str(metrics.cohen_kappa_score(y_test,y_pred)))"
   ]
  },
  {
   "cell_type": "code",
   "execution_count": 135,
   "metadata": {},
   "outputs": [
    {
     "name": "stdout",
     "output_type": "stream",
     "text": [
      "Best score: 0.672\n",
      "Best parameters set:\n",
      "\tcriterion: 'entropy'\n",
      "\tmin_samples_leaf: 30\n",
      "\tn_estimators: 300\n",
      "\trandom_state: 123\n",
      "Predicted   -1     0    1\n",
      "Actual                   \n",
      "-1         461    96   11\n",
      " 0         377  3365  777\n",
      " 1           2   109  632\n",
      "              precision    recall  f1-score   support\n",
      "\n",
      "          -1       0.55      0.81      0.65       568\n",
      "           0       0.94      0.74      0.83      4519\n",
      "           1       0.45      0.85      0.58       743\n",
      "\n",
      "   micro avg       0.76      0.76      0.76      5830\n",
      "   macro avg       0.65      0.80      0.69      5830\n",
      "weighted avg       0.84      0.76      0.78      5830\n",
      "\n",
      "Accuracy: 0.7646655231560892\n",
      "Cohen's Kappa: 0.5099966980909575\n"
     ]
    }
   ],
   "source": [
    "# result with price as feature\n",
    "parameters = {\n",
    "    'n_estimators' : [100,200,300],\n",
    "    'min_samples_leaf':[30,40,50,60],\n",
    "    'random_state':[123],\n",
    "    'criterion':['entropy']\n",
    "}\n",
    "Grid_RF = GridSearchCV(RandomForestClassifier(),parameters, cv=3)\n",
    "Grid_RF.fit(X_train_reshaped, y_train)\n",
    "print_grid_search_metrics(Grid_RF)\n",
    "\n",
    "best_RF_model = Grid_RF.best_estimator_\n",
    "\n",
    "# Predicting the Test set results\n",
    "y_pred = best_RF_model.predict(X_test_reshaped)\n",
    "print(pd.crosstab(y_test, y_pred, rownames=['Actual'], colnames=['Predicted']))\n",
    "print(metrics.classification_report(y_test,y_pred))\n",
    "print(\"Accuracy: \" + str(metrics.accuracy_score(y_test,y_pred)))\n",
    "print(\"Cohen's Kappa: \"+str(metrics.cohen_kappa_score(y_test,y_pred)))"
   ]
  },
  {
   "cell_type": "code",
   "execution_count": 33,
   "metadata": {},
   "outputs": [
    {
     "name": "stdout",
     "output_type": "stream",
     "text": [
      "Best score: 0.665\n",
      "Best parameters set:\n",
      "\tmin_samples_leaf: 30\n",
      "\tn_estimators: 100\n",
      "\trandom_state: 123\n",
      "Predicted   -1     0    1\n",
      "Actual                   \n",
      "-1         474    77   17\n",
      " 0         410  3205  904\n",
      " 1           5   103  635\n",
      "              precision    recall  f1-score   support\n",
      "\n",
      "          -1       0.53      0.83      0.65       568\n",
      "           0       0.95      0.71      0.81      4519\n",
      "           1       0.41      0.85      0.55       743\n",
      "\n",
      "   micro avg       0.74      0.74      0.74      5830\n",
      "   macro avg       0.63      0.80      0.67      5830\n",
      "weighted avg       0.84      0.74      0.76      5830\n",
      "\n",
      "Accuracy: 0.7399656946826758\n",
      "Cohen's Kappa: 0.4810482633899017\n"
     ]
    }
   ],
   "source": [
    "# without using entropy\n",
    "parameters = {\n",
    "    'n_estimators' : [100,200,300],\n",
    "    'min_samples_leaf':[30,40,50,60],\n",
    "    'random_state':[123]\n",
    "}\n",
    "Grid_RF = GridSearchCV(RandomForestClassifier(),parameters, cv=3)\n",
    "Grid_RF.fit(X_train_reshaped, y_train)\n",
    "print_grid_search_metrics(Grid_RF)\n",
    "\n",
    "best_RF_model = Grid_RF.best_estimator_\n",
    "\n",
    "# Predicting the Test set results\n",
    "y_pred = best_RF_model.predict(X_test_reshaped)\n",
    "print(pd.crosstab(y_test, y_pred, rownames=['Actual'], colnames=['Predicted']))\n",
    "print(metrics.classification_report(y_test,y_pred))\n",
    "print(\"Accuracy: \" + str(metrics.accuracy_score(y_test,y_pred)))\n",
    "print(\"Cohen's Kappa: \"+str(metrics.cohen_kappa_score(y_test,y_pred)))"
   ]
  },
  {
   "cell_type": "code",
   "execution_count": null,
   "metadata": {},
   "outputs": [],
   "source": []
  }
 ],
 "metadata": {
  "kernelspec": {
   "display_name": "Python 3",
   "language": "python",
   "name": "python3"
  },
  "language_info": {
   "codemirror_mode": {
    "name": "ipython",
    "version": 3
   },
   "file_extension": ".py",
   "mimetype": "text/x-python",
   "name": "python",
   "nbconvert_exporter": "python",
   "pygments_lexer": "ipython3",
   "version": "3.6.8"
  }
 },
 "nbformat": 4,
 "nbformat_minor": 2
 
 data = pd.concat([tcs['Open'],infy['Open'],wipro['Open']],axis = 1)
data.columns = ['TCSOpen','InfosysOpen','WiproOpen']
scatter_matrix(data, figsize = (8,8), hist_kwds= {'bins':250})
}
